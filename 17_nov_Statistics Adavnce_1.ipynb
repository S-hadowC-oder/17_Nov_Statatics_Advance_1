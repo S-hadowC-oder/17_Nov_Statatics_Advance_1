{
 "cells": [
  {
   "cell_type": "markdown",
   "metadata": {},
   "source": [
    "\n",
    "## 1. Properties of the F-distribution\n",
    "- The F-distribution is not symmetric; it is positively skewed.\n",
    "- It is defined only for positive values (greater than zero).\n",
    "- The shape depends on the degrees of freedom of the numerator (ν1) and the denominator (ν2).\n",
    "- As ν1 and ν2 increase, the distribution approaches normality.\n",
    "- The mean of the F-distribution is ν2/(ν2 - 2) for ν2 > 2.\n",
    "\n",
    "## 2. Statistical Tests Using the F-distribution\n",
    "- **ANOVA (Analysis of Variance)**: Used to compare the variances between multiple groups.\n",
    "- **F-test for Equality of Variances**: Checks if two populations have the same variance.\n",
    "- The F-distribution is appropriate for these tests as it compares variance estimates.\n",
    "\n",
    "## 3. Key Assumptions for an F-test\n",
    "- Data must be independent and randomly sampled.\n",
    "- Populations should follow a normal distribution.\n",
    "- Samples must have equal variances.\n",
    "\n",
    "## 4. Purpose of ANOVA vs. t-test\n",
    "- **ANOVA**: Compares means of three or more groups.\n",
    "- **t-test**: Compares means of two groups.\n",
    "- ANOVA controls the Type I error rate better than multiple t-tests.\n",
    "\n",
    "## 5. Using One-Way ANOVA Instead of Multiple t-tests\n",
    "- One-way ANOVA is used to compare more than two groups while controlling the overall Type I error rate.\n",
    "- More efficient and valid than performing multiple independent t-tests.\n",
    "\n",
    "## 6. Partitioning Variance in ANOVA\n",
    "- **Between-group variance**: Variance due to group mean differences.\n",
    "- **Within-group variance**: Variance within each group.\n",
    "- The F-statistic is the ratio of between-group variance to within-group variance, indicating significant differences between group means.\n",
    "\n",
    "## 7. Frequentist vs. Bayesian ANOVA\n",
    "- **Frequentist ANOVA**: Uses sample data for hypothesis testing with p-values.\n",
    "- **Bayesian ANOVA**: Provides probability distributions for parameters, handling uncertainty comprehensively.\n",
    "- **Key differences**: Bayesian ANOVA incorporates prior beliefs, unlike frequentist.\n",
    "\n",
    "\n",
    "\n",
    "\n",
    "\n"
   ]
  },
  {
   "cell_type": "code",
   "execution_count": 1,
   "metadata": {},
   "outputs": [
    {
     "name": "stdout",
     "output_type": "stream",
     "text": [
      "F-statistic: 0.7368421052631583, p-value: 0.4156507222081854\n"
     ]
    }
   ],
   "source": [
    "## 8. F-test for Incomes of Two Professions\n",
    "import numpy as np\n",
    "from scipy import stats\n",
    "\n",
    "# Data for the two professions\n",
    "profession_a = np.array([48, 52, 55, 60, 62])\n",
    "profession_b = np.array([45, 50, 55, 52, 47])\n",
    "\n",
    "# Perform the F-test for equality of variances\n",
    "f_statistic, p_value = stats.levene(profession_a, profession_b)\n",
    "print(f\"F-statistic: {f_statistic}, p-value: {p_value}\")"
   ]
  },
  {
   "cell_type": "markdown",
   "metadata": {},
   "source": [
    "### Interpretation\n",
    "## - Check if the p-value is below the significance level (e.g., 0.05) to decide if the null hypothesis (equal variances) should be rejected.\n"
   ]
  },
  {
   "cell_type": "code",
   "execution_count": 2,
   "metadata": {},
   "outputs": [
    {
     "name": "stdout",
     "output_type": "stream",
     "text": [
      "F-statistic: 67.87330316742101, p-value: 2.8706641879370266e-07\n"
     ]
    }
   ],
   "source": [
    "## 9. One-Way ANOVA for Heights\n",
    "\n",
    "import numpy as np\n",
    "from scipy import stats\n",
    "\n",
    "# Data for the three regions\n",
    "region_a = np.array([160, 162, 165, 158, 164])\n",
    "region_b = np.array([172, 175, 170, 168, 174])\n",
    "region_c = np.array([180, 182, 179, 185, 183])\n",
    "\n",
    "# Perform the one-way ANOVA\n",
    "f_statistic, p_value = stats.f_oneway(region_a, region_b, region_c)\n",
    "print(f\"F-statistic: {f_statistic}, p-value: {p_value}\")\n",
    "\n"
   ]
  },
  {
   "cell_type": "markdown",
   "metadata": {},
   "source": [
    "### Interpretation\n",
    "## - If the p-value is below the significance level (e.g., 0.05), there is a significant difference between the group means."
   ]
  }
 ],
 "metadata": {
  "kernelspec": {
   "display_name": "Python 3",
   "language": "python",
   "name": "python3"
  },
  "language_info": {
   "codemirror_mode": {
    "name": "ipython",
    "version": 3
   },
   "file_extension": ".py",
   "mimetype": "text/x-python",
   "name": "python",
   "nbconvert_exporter": "python",
   "pygments_lexer": "ipython3",
   "version": "3.12.0"
  }
 },
 "nbformat": 4,
 "nbformat_minor": 2
}
